{
 "cells": [
  {
   "cell_type": "code",
   "execution_count": 2,
   "metadata": {},
   "outputs": [
    {
     "name": "stdout",
     "output_type": "stream",
     "text": [
      "The autoreload extension is already loaded. To reload it, use:\n",
      "  %reload_ext autoreload\n"
     ]
    }
   ],
   "source": [
    "#llm = LLM(model=\"EleutherAI/gpt-j-6b\")\n",
    "%load_ext autoreload\n",
    "%autoreload 2"
   ]
  },
  {
   "cell_type": "code",
   "execution_count": 34,
   "metadata": {},
   "outputs": [],
   "source": [
    "from vllm import LLM, SamplingParams\n",
    "\n",
    "prompts = [\n",
    "    \"Make a sentence using the verb 'retire'.  Sentence: \",\n",
    "    \"Make a sentence using the verb 'retire'.  Sentence: \",\n",
    "    \"Make a sentence using the verb 'retire'.  Sentence: \",\n",
    "]\n",
    "sampling_params = SamplingParams(temperature=0.8, top_p=0.95, max_tokens = 40)"
   ]
  },
  {
   "cell_type": "code",
   "execution_count": 35,
   "metadata": {},
   "outputs": [
    {
     "name": "stderr",
     "output_type": "stream",
     "text": [
      "Processed prompts: 100%|██████████| 3/3 [00:00<00:00,  5.03it/s, est. speed input: 75.41 toks/s, output: 201.08 toks/s]"
     ]
    },
    {
     "name": "stdout",
     "output_type": "stream",
     "text": [
      "Prompt: \"Make a sentence using the verb 'retire'.  Sentence: \", Generated text: \"\\n\\nI like to retire in the afternoon.\\n\\nYou'll notice you've used the verb 'retire' in the sentence.  The verb 'retire' is a transitive verb\"\n",
      "Prompt: \"Make a sentence using the verb 'retire'.  Sentence: \", Generated text: '\\n\\nRetirement is ____, but it can be a pleasant change.\\n\\nA:\\n\\nThe word you are looking for is abdicate. \\nIt has the meaning of'\n",
      "Prompt: \"Make a sentence using the verb 'retire'.  Sentence: \", Generated text: '\\n\\nBy the time you retire, you will be 60 years old.\\n\\nWhat I made: \\n\\nBy the time you retire, you will be 60 years old.\\n\\nA'\n"
     ]
    },
    {
     "name": "stderr",
     "output_type": "stream",
     "text": [
      "\n"
     ]
    }
   ],
   "source": [
    "outputs = llm.generate(prompts, sampling_params)\n",
    "\n",
    "# Print the outputs.\n",
    "for output in outputs:\n",
    "    prompt = output.prompt\n",
    "    generated_text = output.outputs[0].text\n",
    "    print(f\"Prompt: {prompt!r}, Generated text: {generated_text!r}\")"
   ]
  },
  {
   "cell_type": "markdown",
   "metadata": {},
   "source": [
    "### Try out Llama-8b"
   ]
  },
  {
   "cell_type": "code",
   "execution_count": 6,
   "metadata": {},
   "outputs": [
    {
     "name": "stderr",
     "output_type": "stream",
     "text": [
      "Downloading shards: 100%|██████████| 4/4 [02:26<00:00, 36.68s/it]\n",
      "Loading checkpoint shards: 100%|██████████| 4/4 [00:07<00:00,  1.98s/it]\n"
     ]
    },
    {
     "data": {
      "text/plain": [
       "Embedding(128264, 4096)"
      ]
     },
     "execution_count": 6,
     "metadata": {},
     "output_type": "execute_result"
    }
   ],
   "source": [
    "import torch\n",
    "from transformers import (\n",
    "    AutoModelForCausalLM,\n",
    "    AutoTokenizer,\n",
    "    BitsAndBytesConfig,\n",
    ")\n",
    "\n",
    "MODEL_NAME = \"meta-llama/Meta-Llama-3-8B-Instruct\"\n",
    "PAD_TOKEN = \"<|pad|>\"\n",
    "\n",
    "quantization_config = BitsAndBytesConfig(\n",
    "    load_in_4bit=True, bnb_4bit_quant_type=\"nf4\", bnb_4bit_compute_dtype=torch.bfloat16\n",
    ")\n",
    "\n",
    "tokenizer = AutoTokenizer.from_pretrained(MODEL_NAME, use_fast=True)\n",
    "tokenizer.add_special_tokens({\"pad_token\": PAD_TOKEN})\n",
    "tokenizer.padding_side = \"right\"\n",
    "# takes 2-3 minutes\n",
    "model = AutoModelForCausalLM.from_pretrained(\n",
    "    MODEL_NAME,\n",
    "    quantization_config=quantization_config,\n",
    "    #     attn_implementation=\"flash_attention_2\",\n",
    "    #     attn_implementation=\"sdpa\",\n",
    "    device_map=\"auto\",\n",
    ")\n",
    "model.resize_token_embeddings(len(tokenizer), pad_to_multiple_of=8)"
   ]
  },
  {
   "cell_type": "code",
   "execution_count": 8,
   "metadata": {},
   "outputs": [],
   "source": [
    "from transformers import pipeline\n",
    "\n",
    "pipe = pipeline(\n",
    "    task=\"text-generation\",\n",
    "    model=model,\n",
    "    tokenizer=tokenizer,\n",
    "    max_new_tokens=128,\n",
    "    return_full_text=False,\n",
    ")"
   ]
  },
  {
   "cell_type": "code",
   "execution_count": 13,
   "metadata": {},
   "outputs": [],
   "source": [
    "# template\n",
    "def create_test_prompt(word: str):\n",
    "    prompt_format = \"make three sentences in Japanese using the verb {}.\"\n",
    "    prompt = prompt_format.format(word)\n",
    "    messages = [\n",
    "        {\"role\": \"user\", \"content\": prompt},\n",
    "    ]\n",
    "    return tokenizer.apply_chat_template(\n",
    "        messages, tokenize=False, add_generation_prompt=True\n",
    "    )"
   ]
  },
  {
   "cell_type": "code",
   "execution_count": 16,
   "metadata": {},
   "outputs": [
    {
     "name": "stdout",
     "output_type": "stream",
     "text": [
      "<|begin_of_text|><|start_header_id|>user<|end_header_id|>\n",
      "\n",
      "make three sentences in Japanese using the verb 𠮟る.<|eot_id|><|start_header_id|>assistant<|end_header_id|>\n",
      "\n",
      "\n",
      "\n",
      "Prediction:\n",
      "Here are three sentences in Japanese using the verb 𠮟る (miru, meaning \"to see\" or \"to look\"):\n",
      "\n",
      "1. (Watashi wa ki no ji o miru.) - I look at the tree's branches.\n",
      "2. (Kare wa sono inu o miru.) - He looks at that dog.\n",
      "3. (Watashi wa asa made no sore o miru.) - I look at the sunrise until morning.\n",
      "\n",
      "Note: The verb 𠮟る (miru) can have different nuances depending on the context and the particles used. In these sentences, I used the\n",
      "\n",
      "\n",
      "\n",
      "<|begin_of_text|><|start_header_id|>user<|end_header_id|>\n",
      "\n",
      "make three sentences in Japanese using the verb 変える.<|eot_id|><|start_header_id|>assistant<|end_header_id|>\n",
      "\n",
      "\n",
      "\n",
      "Prediction:\n",
      "Here are three sentences in Japanese using the verb 変える (kaeru), which means \"to change\" or \"to exchange\":\n",
      "\n",
      "1. (Watashi wa kimono o kaeru.) - I will change my kimono.\n",
      "2. (Kono inu wa neko o kaeru.) - This dog is changing into a cat. (Note: This sentence is a bit unusual, as 変える typically implies a more literal change, but it can be used in this context to mean \"transforms into\" or \"becomes\".)\n",
      "3. (Gakkō no shuyaku o kaeru.) - I will\n",
      "\n",
      "\n",
      "\n",
      "<|begin_of_text|><|start_header_id|>user<|end_header_id|>\n",
      "\n",
      "make three sentences in Japanese using the verb 行なう.<|eot_id|><|start_header_id|>assistant<|end_header_id|>\n",
      "\n",
      "\n",
      "\n",
      "Prediction:\n",
      "Here are three sentences in Japanese using the verb 行なう (inu):\n",
      "\n",
      "1. (Watashi wa kōhī o inu) - I will go to the coffee shop.\n",
      "2. (Kare wa yūjū o inu) - He will go to the amusement park.\n",
      "3. (Watashi wa ryokō o inu) - I will go on a trip.\n",
      "\n",
      "Note: 行なう (inu) is a polite verb ending that is used to express future tense or intention. It is often used in formal or polite language.\n",
      "\n",
      "\n",
      "\n",
      "<|begin_of_text|><|start_header_id|>user<|end_header_id|>\n",
      "\n",
      "make three sentences in Japanese using the verb 冷める.<|eot_id|><|start_header_id|>assistant<|end_header_id|>\n",
      "\n",
      "\n",
      "\n",
      "Prediction:\n",
      "Here are three sentences in Japanese using the verb 冷める (sameru), which means \"to cool down\" or \"to grow cold\":\n",
      "\n",
      "1. (Kōri o sameru to, kanaeta.)\n",
      "Translation: When it gets cold, I get tired.\n",
      "2. (Watashi no sake wa hi ni sameru.)\n",
      "Translation: My sake is cooling down in the sun.\n",
      "3. (Kara no inu wa yoru ni sameru.)\n",
      "Translation: The dog's paw pads get cold at night.\n",
      "\n",
      "Note: 冷める can also be used to describe the process of something becoming less intense or severe, not\n",
      "\n",
      "\n",
      "\n"
     ]
    }
   ],
   "source": [
    "# let's run some inference\n",
    "# 1. generation task\n",
    "\n",
    "# system warmup\n",
    "SYSTEM_START = \"You can speak both japanese and english fluently. Use Hiragana and kanji.\"\n",
    "USER_START = \"make three sentences in Japanese using the verb '慣れる'\"\n",
    "warmup_prompt = tokenizer.apply_chat_template(\n",
    "        [{\n",
    "            \"role\": \"system\",\n",
    "            \"content\": SYSTEM_START,\n",
    "        }, {\n",
    "            \"role\": \"user\",\n",
    "            \"content\": USER_START,\n",
    "        }\n",
    "        ], tokenize=False, add_generation_prompt=True )\n",
    "outputs = pipe(warmup_prompt)\n",
    "\n",
    "# start\n",
    "WORDS_LIST = [\"𠮟る\",\"変える\",\"行なう\", \"冷める\"]\n",
    "prompts = [create_test_prompt(word) for word in WORDS_LIST]\n",
    "for prompt in prompts:\n",
    "    print(prompt)\n",
    "    print(\"\\nPrediction:\")\n",
    "    outputs = pipe(prompt)\n",
    "    print(outputs[0][\"generated_text\"])\n",
    "    print(\"\\n\\n\")"
   ]
  },
  {
   "cell_type": "markdown",
   "metadata": {},
   "source": [
    "That was bullshit. Let's try a model that can speak Japanese.\n",
    "sadly, there's only 70b model for llama 3 in japanese.\n",
    "### Try out Llama2-Japanese-7b"
   ]
  },
  {
   "cell_type": "code",
   "execution_count": 1,
   "metadata": {},
   "outputs": [
    {
     "data": {
      "application/vnd.jupyter.widget-view+json": {
       "model_id": "51c988d3d4c54e708c878262c72ccf42",
       "version_major": 2,
       "version_minor": 0
      },
      "text/plain": [
       "Loading checkpoint shards:   0%|          | 0/2 [00:00<?, ?it/s]"
      ]
     },
     "metadata": {},
     "output_type": "display_data"
    }
   ],
   "source": [
    "import torch\n",
    "from transformers import (\n",
    "    AutoModelForCausalLM,\n",
    "    AutoTokenizer,\n",
    "    BitsAndBytesConfig,\n",
    ")\n",
    "\n",
    "B_INST, E_INST = \"[INST]\", \"[/INST]\"\n",
    "B_SYS, E_SYS = \"<<SYS>>\\n\", \"\\n<</SYS>>\\n\\n\"\n",
    "DEFAULT_SYSTEM_PROMPT = \"あなたは誠実で優秀な日本人のアシスタントです。\"\n",
    "text = \"クマが海辺に行ってアザラシと友達になり、最終的には家に帰るというプロットの短編小説を書いてください。\"\n",
    "# will take 4-6 minutes\n",
    "model_name = \"elyza/ELYZA-japanese-Llama-2-7b-instruct\"\n",
    "tokenizer = AutoTokenizer.from_pretrained(model_name)\n",
    "model = AutoModelForCausalLM.from_pretrained(model_name, torch_dtype=\"auto\", device_map=\"auto\")\n"
   ]
  },
  {
   "cell_type": "code",
   "execution_count": 9,
   "metadata": {},
   "outputs": [],
   "source": [
    "from transformers import pipeline\n",
    "\n",
    "pipe = pipeline(\n",
    "    task=\"text-generation\",\n",
    "    model=model,\n",
    "    tokenizer=tokenizer,\n",
    "    max_new_tokens=128,\n",
    "    return_full_text=False,\n",
    ")\n"
   ]
  },
  {
   "cell_type": "code",
   "execution_count": 2,
   "metadata": {},
   "outputs": [
    {
     "name": "stdout",
     "output_type": "stream",
     "text": [
      "<<SYS>>\n",
      "あなたは誠実で優秀な日本人のアシスタントです。\n",
      "<</SYS>>\n",
      "\n",
      "<s>[INST] make three sentences in Japanese using the word 慣れる. [/INST]  1. 新しい環境に慣れるのには時間がかかります。\n",
      "2. 毎日練習して、次第に英語を話すことに慣れてきました。\n",
      "3. 韓国での生活にもすぐに慣れました。 </s><s>[INST] make three sentences in Japanese using the word 起きる. [/INST] \n",
      "\n",
      "\n",
      "\n",
      "\n",
      "<<SYS>>\n",
      "あなたは誠実で優秀な日本人のアシスタントです。\n",
      "<</SYS>>\n",
      "\n",
      "<s>[INST] make three sentences in Japanese using the word 慣れる. [/INST]  1. 新しい環境に慣れるのには時間がかかります。\n",
      "2. 毎日練習して、次第に英語を話すことに慣れてきました。\n",
      "3. 韓国での生活にもすぐに慣れました。 </s><s>[INST] make three sentences in Japanese using the word 変える. [/INST] \n",
      "\n",
      "\n",
      "\n",
      "\n",
      "<<SYS>>\n",
      "あなたは誠実で優秀な日本人のアシスタントです。\n",
      "<</SYS>>\n",
      "\n",
      "<s>[INST] make three sentences in Japanese using the word 慣れる. [/INST]  1. 新しい環境に慣れるのには時間がかかります。\n",
      "2. 毎日練習して、次第に英語を話すことに慣れてきました。\n",
      "3. 韓国での生活にもすぐに慣れました。 </s><s>[INST] make three sentences in Japanese using the word 行なう. [/INST] \n",
      "\n",
      "\n",
      "\n",
      "\n",
      "<<SYS>>\n",
      "あなたは誠実で優秀な日本人のアシスタントです。\n",
      "<</SYS>>\n",
      "\n",
      "<s>[INST] make three sentences in Japanese using the word 慣れる. [/INST]  1. 新しい環境に慣れるのには時間がかかります。\n",
      "2. 毎日練習して、次第に英語を話すことに慣れてきました。\n",
      "3. 韓国での生活にもすぐに慣れました。 </s><s>[INST] make three sentences in Japanese using the word 冷める. [/INST] \n",
      "\n",
      "\n",
      "\n",
      "\n",
      "<<SYS>>\n",
      "あなたは誠実で優秀な日本人のアシスタントです。\n",
      "<</SYS>>\n",
      "\n",
      "<s>[INST] make three sentences in Japanese using the word 慣れる. [/INST]  1. 新しい環境に慣れるのには時間がかかります。\n",
      "2. 毎日練習して、次第に英語を話すことに慣れてきました。\n",
      "3. 韓国での生活にもすぐに慣れました。 </s><s>[INST] make three sentences in Japanese using the word 謝る. [/INST] \n",
      "\n",
      "\n",
      "\n",
      "\n",
      "<<SYS>>\n",
      "あなたは誠実で優秀な日本人のアシスタントです。\n",
      "<</SYS>>\n",
      "\n",
      "<s>[INST] make three sentences in Japanese using the word 慣れる. [/INST]  1. 新しい環境に慣れるのには時間がかかります。\n",
      "2. 毎日練習して、次第に英語を話すことに慣れてきました。\n",
      "3. 韓国での生活にもすぐに慣れました。 </s><s>[INST] make three sentences in Japanese using the word 抱く. [/INST] \n",
      "\n",
      "\n",
      "\n",
      "\n",
      "<<SYS>>\n",
      "あなたは誠実で優秀な日本人のアシスタントです。\n",
      "<</SYS>>\n",
      "\n",
      "<s>[INST] make three sentences in Japanese using the word 慣れる. [/INST]  1. 新しい環境に慣れるのには時間がかかります。\n",
      "2. 毎日練習して、次第に英語を話すことに慣れてきました。\n",
      "3. 韓国での生活にもすぐに慣れました。 </s><s>[INST] make three sentences in Japanese using the word 決める. [/INST] \n",
      "\n",
      "\n",
      "\n",
      "\n",
      "<<SYS>>\n",
      "あなたは誠実で優秀な日本人のアシスタントです。\n",
      "<</SYS>>\n",
      "\n",
      "<s>[INST] make three sentences in Japanese using the word 慣れる. [/INST]  1. 新しい環境に慣れるのには時間がかかります。\n",
      "2. 毎日練習して、次第に英語を話すことに慣れてきました。\n",
      "3. 韓国での生活にもすぐに慣れました。 </s><s>[INST] make three sentences in Japanese using the word 高める. [/INST] \n",
      "\n",
      "\n",
      "\n",
      "\n"
     ]
    }
   ],
   "source": [
    "from prompt.Llama2JP_prompter import Llama2JPPrompter\n",
    "\n",
    "WORDS_LIST = [\"起きる\",\"変える\",\"行なう\", \"冷める\", \"謝る\", \"抱く\", \"決める\", \"高める\"]\n",
    "\n",
    "prompter = Llama2JPPrompter(tokenizer)\n",
    "prompts = [prompter.prompt_generate_sentences_fewshot(word) for word in WORDS_LIST]\n",
    "\n",
    "for prompt in prompts:\n",
    "    print(prompt)\n",
    "    print(\"\\n\\n\\n\")"
   ]
  },
  {
   "cell_type": "code",
   "execution_count": 17,
   "metadata": {},
   "outputs": [
    {
     "ename": "TypeError",
     "evalue": "list indices must be integers or slices, not str",
     "output_type": "error",
     "traceback": [
      "\u001b[0;31m---------------------------------------------------------------------------\u001b[0m",
      "\u001b[0;31mTypeError\u001b[0m                                 Traceback (most recent call last)",
      "Cell \u001b[0;32mIn[17], line 2\u001b[0m\n\u001b[1;32m      1\u001b[0m output \u001b[38;5;241m=\u001b[39m pipe(prompts, batch_size \u001b[38;5;241m=\u001b[39m \u001b[38;5;28mlen\u001b[39m(WORDS_LIST))\n\u001b[0;32m----> 2\u001b[0m \u001b[38;5;28mprint\u001b[39m(\u001b[43moutput\u001b[49m\u001b[43m[\u001b[49m\u001b[38;5;241;43m0\u001b[39;49m\u001b[43m]\u001b[49m\u001b[43m[\u001b[49m\u001b[38;5;124;43m\"\u001b[39;49m\u001b[38;5;124;43mgenerated_text\u001b[39;49m\u001b[38;5;124;43m\"\u001b[39;49m\u001b[43m]\u001b[49m)\n",
      "\u001b[0;31mTypeError\u001b[0m: list indices must be integers or slices, not str"
     ]
    }
   ],
   "source": [
    "output = pipe(prompts, batch_size = len(WORDS_LIST))"
   ]
  },
  {
   "cell_type": "code",
   "execution_count": 18,
   "metadata": {},
   "outputs": [
    {
     "name": "stdout",
     "output_type": "stream",
     "text": [
      "<<SYS>>\n",
      "あなたは誠実で優秀な日本人のアシスタントです。\n",
      "<</SYS>>\n",
      "\n",
      "<s>[INST] make three sentences in Japanese using the word 慣れる. [/INST] 1. 新しい環境に慣れるのには時間がかかります。\n",
      "2. 毎日練習して、次第に英語を話すことに慣れてきました。\n",
      "3. 韓国での生活にもすぐに慣れました。 </s><s>[INST] make three sentences in Japanese using the word 起きる. [/INST]\n",
      "\n",
      "Prediction:\n",
      "  1. 今日は早く起きるぞ！\n",
      "2. 早く起きて海に行きましょう。\n",
      "3. 彼女は早く起きて朝ごはんを作ります。\n",
      "\n",
      "\n",
      "\n",
      "<<SYS>>\n",
      "あなたは誠実で優秀な日本人のアシスタントです。\n",
      "<</SYS>>\n",
      "\n",
      "<s>[INST] make three sentences in Japanese using the word 慣れる. [/INST] 1. 新しい環境に慣れるのには時間がかかります。\n",
      "2. 毎日練習して、次第に英語を話すことに慣れてきました。\n",
      "3. 韓国での生活にもすぐに慣れました。 </s><s>[INST] make three sentences in Japanese using the word 変える. [/INST]\n",
      "\n",
      "Prediction:\n",
      "  1. 彼女には変えられないほど好きな人がいます。\n",
      "2. 勉強のやり方を変えると結果が出ました。\n",
      "3. 季節の変わり目は肌が変えられません。\n",
      "\n",
      "\n",
      "\n",
      "<<SYS>>\n",
      "あなたは誠実で優秀な日本人のアシスタントです。\n",
      "<</SYS>>\n",
      "\n",
      "<s>[INST] make three sentences in Japanese using the word 慣れる. [/INST] 1. 新しい環境に慣れるのには時間がかかります。\n",
      "2. 毎日練習して、次第に英語を話すことに慣れてきました。\n",
      "3. 韓国での生活にもすぐに慣れました。 </s><s>[INST] make three sentences in Japanese using the word 行なう. [/INST]\n",
      "\n",
      "Prediction:\n",
      "  1. 彼は毎日早起きして、構想を練るために筆を取り、新しい演説を作成している。\n",
      "2. 彼女は毎日残業をして、プロジェクトの進捗状況を確認し、報告書を作成している。\n",
      "3. 彼は毎日ジムに\n",
      "\n",
      "\n",
      "\n",
      "<<SYS>>\n",
      "あなたは誠実で優秀な日本人のアシスタントです。\n",
      "<</SYS>>\n",
      "\n",
      "<s>[INST] make three sentences in Japanese using the word 慣れる. [/INST] 1. 新しい環境に慣れるのには時間がかかります。\n",
      "2. 毎日練習して、次第に英語を話すことに慣れてきました。\n",
      "3. 韓国での生活にもすぐに慣れました。 </s><s>[INST] make three sentences in Japanese using the word 冷める. [/INST]\n",
      "\n",
      "Prediction:\n",
      "  1. 彼女に振られて、僕は彼女を冷めるほど好きになった。\n",
      "2. 夕食のピラフが冷めてしまったので、子どもたちによそう前に写真を撮った。\n",
      "3. 彼の態度が変わって冷めたので、別れを切り出した。\n",
      "\n",
      "\n",
      "\n",
      "<<SYS>>\n",
      "あなたは誠実で優秀な日本人のアシスタントです。\n",
      "<</SYS>>\n",
      "\n",
      "<s>[INST] make three sentences in Japanese using the word 慣れる. [/INST] 1. 新しい環境に慣れるのには時間がかかります。\n",
      "2. 毎日練習して、次第に英語を話すことに慣れてきました。\n",
      "3. 韓国での生活にもすぐに慣れました。 </s><s>[INST] make three sentences in Japanese using the word 謝る. [/INST]\n",
      "\n",
      "Prediction:\n",
      "  1. 私は遅れてしまったので、先生に急いでいると謝るために電話をしました。\n",
      "2. 友人に遅れてしまい、電話で謝りました。\n",
      "3. 仕事が終わらず、取引先に遅れて急いでいる様子を見られてしまい、謝ったところ、\n",
      "\n",
      "\n",
      "\n",
      "<<SYS>>\n",
      "あなたは誠実で優秀な日本人のアシスタントです。\n",
      "<</SYS>>\n",
      "\n",
      "<s>[INST] make three sentences in Japanese using the word 慣れる. [/INST] 1. 新しい環境に慣れるのには時間がかかります。\n",
      "2. 毎日練習して、次第に英語を話すことに慣れてきました。\n",
      "3. 韓国での生活にもすぐに慣れました。 </s><s>[INST] make three sentences in Japanese using the word 抱く. [/INST]\n",
      "\n",
      "Prediction:\n",
      "  1. 私はこの町が大好きで、この景色を見るといつも抱きしめたくなります。\n",
      "2. 子供が産まれてから、親としての責任と喜びを感じるようになり、子供を抱くたびに幸せを感じます。\n",
      "3. この山は標高が高いので、登るのは\n",
      "\n",
      "\n",
      "\n",
      "<<SYS>>\n",
      "あなたは誠実で優秀な日本人のアシスタントです。\n",
      "<</SYS>>\n",
      "\n",
      "<s>[INST] make three sentences in Japanese using the word 慣れる. [/INST] 1. 新しい環境に慣れるのには時間がかかります。\n",
      "2. 毎日練習して、次第に英語を話すことに慣れてきました。\n",
      "3. 韓国での生活にもすぐに慣れました。 </s><s>[INST] make three sentences in Japanese using the word 決める. [/INST]\n",
      "\n",
      "Prediction:\n",
      "  1. 明日の昼飯はラーメンで決めました。\n",
      "2. どの部屋にするか、今から決めます。\n",
      "3. 転職を決める前に友人に相談しました。\n",
      "\n",
      "\n",
      "\n",
      "<<SYS>>\n",
      "あなたは誠実で優秀な日本人のアシスタントです。\n",
      "<</SYS>>\n",
      "\n",
      "<s>[INST] make three sentences in Japanese using the word 慣れる. [/INST] 1. 新しい環境に慣れるのには時間がかかります。\n",
      "2. 毎日練習して、次第に英語を話すことに慣れてきました。\n",
      "3. 韓国での生活にもすぐに慣れました。 </s><s>[INST] make three sentences in Japanese using the word 高める. [/INST]\n",
      "\n",
      "Prediction:\n",
      "  1. 彼女の歌唱力は日々高められているだろう。\n",
      "2. 彼の英語力はこの間までないものであったが、今では高められた。\n",
      "3. この薬は高める効果があるので、肺の病気には効果的だ。\n",
      "\n",
      "\n",
      "\n"
     ]
    }
   ],
   "source": [
    "for prompt in prompts:\n",
    "    print(prompt)\n",
    "    print(\"\\nPrediction:\")\n",
    "    outputs = pipe(prompt)\n",
    "    print(outputs[0][\"generated_text\"])\n",
    "    print(\"\\n\\n\")"
   ]
  },
  {
   "cell_type": "code",
   "execution_count": 19,
   "metadata": {},
   "outputs": [
    {
     "name": "stdout",
     "output_type": "stream",
     "text": [
      "<s>[INST] <<SYS>>\n",
      "あなたは誠実で優秀な日本人のアシスタントです。\n",
      "<</SYS>>\n",
      "\n",
      "[/INST] \n",
      "<s>[INST]make three different sentences in Japanese using the word '起きる'. [/INST] \n",
      "<s>[INST]make three different sentences in Japanese using the word '変える'. [/INST] \n",
      "<s>[INST]make three different sentences in Japanese using the word '行なう'. [/INST] \n",
      "<s>[INST]make three different sentences in Japanese using the word '冷める'. [/INST] \n",
      "<s>[INST]make three different sentences in Japanese using the word '謝る'. [/INST] \n",
      "<s>[INST]make three different sentences in Japanese using the word '抱く'. [/INST] \n",
      "<s>[INST]make three different sentences in Japanese using the word '決める'. [/INST] \n",
      "<s>[INST]make three different sentences in Japanese using the word '高める'. [/INST] \n"
     ]
    }
   ],
   "source": [
    "\n",
    "SYSTEM_START = \"あなたは誠実で優秀な日本人のアシスタントです。\"\n",
    "warmup_prompt = \"{bos_token}{b_inst} {system}{e_inst} \".format(\n",
    "    bos_token=tokenizer.bos_token,\n",
    "    b_inst=B_INST,\n",
    "    system=f\"{B_SYS}{SYSTEM_START}{E_SYS}\",\n",
    "    e_inst=E_INST,\n",
    ")\n",
    "print(warmup_prompt)\n",
    "\n",
    "def create_test_prompt(word: str):\n",
    "    prompt_format = \"{bos_token}{b_inst}make three different sentences in Japanese using the word '{word}'. {e_inst} \"\n",
    "    return prompt_format.format(\n",
    "        bos_token=tokenizer.bos_token,\n",
    "        b_inst=B_INST,\n",
    "        word=word,\n",
    "        e_inst=E_INST,\n",
    "    )\n",
    "\n",
    "\n",
    "prompts = [create_test_prompt(word) for word in WORDS_LIST]\n",
    "for prompt in prompts:\n",
    "    print(prompt)"
   ]
  },
  {
   "cell_type": "code",
   "execution_count": 20,
   "metadata": {},
   "outputs": [
    {
     "name": "stderr",
     "output_type": "stream",
     "text": [
      "You seem to be using the pipelines sequentially on GPU. In order to maximize efficiency please use a dataset\n"
     ]
    },
    {
     "name": "stdout",
     "output_type": "stream",
     "text": [
      "<s>[INST]make three different sentences in Japanese using the word '起きる'. [/INST] \n",
      "\n",
      "Prediction:\n",
      " 承知しました。\n",
      "「起きる」を使った3つの日本語の例を示します。\n",
      "\n",
      "1. 明日、早起きしていい気分になりそうだ。\n",
      "2. 毎朝、早起きすると気持ちが良いです。\n",
      "3. 私は毎日、早起きするので時間に余裕があります。\n",
      "\n",
      "これら\n",
      "\n",
      "\n",
      "\n",
      "<s>[INST]make three different sentences in Japanese using the word '変える'. [/INST] \n",
      "\n",
      "Prediction:\n",
      " 承知しました。\n",
      "\n",
      "1. 彼女は髪の毛を染めて、変えることにした。\n",
      "2. 私はこの前のテストで悪い点数を取ったので、変えるぞ。\n",
      "3. 彼は仕事を辞めて、変えることにした。\n",
      "\n",
      "\n",
      "\n",
      "<s>[INST]make three different sentences in Japanese using the word '行なう'. [/INST] \n",
      "\n",
      "Prediction:\n",
      " 承知しました。\n",
      "「行なう」を使った3つの例文を提案します。\n",
      "\n",
      "1. 彼は毎日早起きして、散歩を行なう。\n",
      "2. 彼女は毎日ピアノを行なう。\n",
      "3. 彼は毎日ジムに通って、体を行なう。\n",
      "\n",
      "\n",
      "\n",
      "<s>[INST]make three different sentences in Japanese using the word '冷める'. [/INST] \n",
      "\n",
      "Prediction:\n",
      " 承知しました。\n",
      "\n",
      "1. コーヒーが冷めると美味しくない。\n",
      "2. 彼女の態度が冷めた。\n",
      "3. 夏の日の冷たいビールがおいしい。\n",
      "\n",
      "\n",
      "\n",
      "<s>[INST]make three different sentences in Japanese using the word '謝る'. [/INST] \n",
      "\n",
      "Prediction:\n",
      " 承知しました。\n",
      "\n",
      "1. 私は遅くなってしまったが、来れたので謝る。\n",
      "2. 友達に髪の毛切ったりして、申し訳なかった。謝る。\n",
      "3. 急な仕事が入ってしまい、残念ながら来れない。謝る。\n",
      "\n",
      "\n",
      "\n",
      "<s>[INST]make three different sentences in Japanese using the word '抱く'. [/INST] \n",
      "\n",
      "Prediction:\n",
      " 承知しました。\n",
      "\n",
      "1. 彼女を抱くと安らぎを感じる。\n",
      "2. 彼の腕の中にいると、安堵感で抱きしめられる。\n",
      "3. この街の雰囲気が好きで、抱きしめたくなる。\n",
      "\n",
      "\n",
      "\n",
      "<s>[INST]make three different sentences in Japanese using the word '決める'. [/INST] \n",
      "\n",
      "Prediction:\n",
      " 承知しました。\n",
      "\n",
      "1. 明日の昼飯はラーメンで決める。\n",
      "2. 休みは月曜日に決めるから、連絡くれ。\n",
      "3. 迷ったら、この道を行けば大丈夫だよ。 \n",
      "\n",
      "いかがでしょうか？\n",
      "\n",
      "\n",
      "\n",
      "<s>[INST]make three different sentences in Japanese using the word '高める'. [/INST] \n",
      "\n",
      "Prediction:\n",
      " 承知しました。\n",
      "「高める」を使った3つの例文を提案します。\n",
      "\n",
      "1. 彼女の歌唱力は日々高められている。\n",
      "2. この薬は胃の壁を高めて胃酸をneutralizeする。\n",
      "3. 彼の野球の技術は高められたと評判だ。\n",
      "\n",
      "これらはあく\n",
      "\n",
      "\n",
      "\n"
     ]
    }
   ],
   "source": [
    "\n",
    "system_output = pipe(warmup_prompt)\n",
    "for prompt in prompts:\n",
    "    print(prompt)\n",
    "    print(\"\\nPrediction:\")\n",
    "    outputs = pipe(prompt)\n",
    "    print(outputs[0][\"generated_text\"])\n",
    "    print(\"\\n\\n\")\n"
   ]
  },
  {
   "cell_type": "code",
   "execution_count": 9,
   "metadata": {},
   "outputs": [
    {
     "name": "stdout",
     "output_type": "stream",
     "text": [
      "1\n",
      "{'generated_text': ' 承知しました。\\n「高める」を使った3つの例文を提案します。\\n\\n1. 彼女の歌唱力は日々高められている。\\n2. この薬は胃の壁を高めて胃酸をneutralizeする。\\n3. 彼の野球の技術は高められたと評判だ。\\n\\nこれらはあく'}\n",
      "19.125016450881958\n"
     ]
    }
   ],
   "source": [
    "# measure inference time\n",
    "import time\n",
    "\n",
    "system_output = pipe(warmup_prompt)\n",
    "duration = 0.0\n",
    "NUM_WARMUP = 0\n",
    "NUM_REPEATS = 1\n",
    "for i in range(NUM_REPEATS+NUM_WARMUP):\n",
    "    start_time = time.time()\n",
    "    for prompt in prompts:\n",
    "        outputs = pipe(prompt)\n",
    "    finish_time = time.time()\n",
    "    if i >= NUM_WARMUP:\n",
    "        duration += finish_time - start_time\n",
    "print(len(outputs))\n",
    "print(outputs[0])\n",
    "print(duration/NUM_REPEATS)"
   ]
  },
  {
   "cell_type": "code",
   "execution_count": 8,
   "metadata": {},
   "outputs": [
    {
     "name": "stdout",
     "output_type": "stream",
     "text": [
      "8\n",
      "[{'generated_text': 'なんとなく、「起きる」という単語の意味を想像できていると思います。\\nそれでは、今回は「起きる」という単語を使った、3つの異なる意味の例を挙げます。\\n\\n1. 今日は早く起きる必要がある。\\n2. 彼女は毎日早く起きる。\\n'}]\n",
      "10.832334280014038\n"
     ]
    }
   ],
   "source": [
    "system_output = pipe(warmup_prompt)\n",
    "duration = 0.0\n",
    "for i in range(NUM_REPEATS+NUM_WARMUP):\n",
    "    start_time = time.time()\n",
    "    outputs = pipe(prompts, batch_size = len(prompts))\n",
    "    finish_time = time.time()\n",
    "    if i >= NUM_WARMUP:\n",
    "        duration += finish_time - start_time\n",
    "print(len(outputs))\n",
    "print(outputs[0])\n",
    "print(duration/NUM_REPEATS)"
   ]
  },
  {
   "cell_type": "code",
   "execution_count": 12,
   "metadata": {},
   "outputs": [
    {
     "data": {
      "text/plain": [
       "GenerationConfig {\n",
       "  \"bos_token_id\": 1,\n",
       "  \"eos_token_id\": 2,\n",
       "  \"pad_token_id\": 0,\n",
       "  \"use_cache\": false\n",
       "}"
      ]
     },
     "execution_count": 12,
     "metadata": {},
     "output_type": "execute_result"
    }
   ],
   "source": [
    "model.generation_config"
   ]
  },
  {
   "cell_type": "code",
   "execution_count": 24,
   "metadata": {},
   "outputs": [
    {
     "name": "stdout",
     "output_type": "stream",
     "text": [
      "<<SYS>>\n",
      "あなたは誠実で優秀な日本人のアシスタントです。\n",
      "<</SYS>>\n",
      "\n",
      "<s>[INST] make three sentences in Japanese using the word 慣れる. [/INST]  1. 新しい環境に慣れるのには時間がかかります。\n",
      "2. 毎日練習して、次第に英語を話すことに慣れてきました。\n",
      "3. 韓国での生活にもすぐに慣れました。 </s><s>[INST] make three sentences in Japanese using the word 謝る. [/INST] \n"
     ]
    },
    {
     "name": "stdout",
     "output_type": "stream",
     "text": [
      "承知しました。「謝る」を使った3つの日本語の文章は以下の通りです。\n",
      "\n",
      "1. 友人に迷惑をかけて謝る。\n",
      "2. 遅くなったので謝る。\n",
      "3. ミスをして上司に謝る。\n"
     ]
    }
   ],
   "source": [
    "# let's look at the tokens more closely.\n",
    "with torch.no_grad():\n",
    "    token_ids = tokenizer.encode(prompts[4], add_special_tokens=False, return_tensors=\"pt\")\n",
    "    print(prompts[4])\n",
    "    generation = model.generate(\n",
    "        token_ids.to(model.device),\n",
    "        max_new_tokens=256,\n",
    "        pad_token_id=tokenizer.pad_token_id,\n",
    "        eos_token_id=tokenizer.eos_token_id,\n",
    "        do_sample=True,\n",
    "        #top_k=3,\n",
    "        #temperature=0.4,\n",
    "        num_beams = 4,\n",
    "        early_stopping=True,\n",
    "        num_return_sequences = 3\n",
    "    )\n",
    "\n",
    "for output_ids in generation:\n",
    "    # individual tokens are just one kanji/hiragana character. not vocabulary\n",
    "    output = tokenizer.decode(output_ids[token_ids.size(1) :], skip_special_tokens=True)\n",
    "    print(output)"
   ]
  },
  {
   "cell_type": "code",
   "execution_count": 51,
   "metadata": {},
   "outputs": [
    {
     "name": "stdout",
     "output_type": "stream",
     "text": [
      "[TaggedWord(word='彼女', yomi='カノジョ', pos='代名詞'), TaggedWord(word='は', yomi='ワ', pos='助詞-係助詞'), TaggedWord(word='毎日', yomi='マイニチ', pos='名詞-普通名詞-副詞可能'), TaggedWord(word='の', yomi='ノ', pos='助詞-格助詞'), TaggedWord(word='よう', yomi='ヨー', pos='形状詞-助動詞語幹'), TaggedWord(word='に', yomi='ニ', pos='助動詞'), TaggedWord(word='洗濯', yomi='センタク', pos='名詞-普通名詞-サ変可能'), TaggedWord(word='物', yomi='ブツ', pos='接尾辞-名詞的-一般'), TaggedWord(word='を', yomi='オ', pos='助詞-格助詞'), TaggedWord(word='行なう', yomi='オコナウ', pos='動詞-一般')]\n"
     ]
    }
   ],
   "source": [
    "import MeCab\n",
    "from collections import namedtuple\n",
    "tagger = MeCab.Tagger(\"--node-format=%f%m\")\n",
    "tagged = tagger.parse(\"彼女は毎日のように濯物洗を行なう\").split('\\n')\n",
    "\n",
    "TaggedWord = namedtuple('TaggedWord', 'word, yomi, pos')\n",
    "\n",
    "parts = []\n",
    "for line in tagged:\n",
    "    tags = line.split('\\t')\n",
    "    if len(tags) >= 5:\n",
    "        parts.append(TaggedWord(word=tags[0], yomi=tags[1], pos=tags[4]))\n",
    "    \n",
    "print(parts)\n"
   ]
  },
  {
   "cell_type": "code",
   "execution_count": 34,
   "metadata": {},
   "outputs": [
    {
     "name": "stdout",
     "output_type": "stream",
     "text": [
      "['fast.', 'slow 3. without newline!', 'with new']\n"
     ]
    }
   ],
   "source": [
    "import re\n",
    "\n",
    "sents = re.split(\"\\n[0-9][. ]*\", \"works out as follows\\n1.  fast.\\n2 slow 3. without newline!\\n\\n4. with new\\n\\n\")\n",
    "sents = [sent.strip() for sent in sents[1:]]\n",
    "print(sents)"
   ]
  },
  {
   "cell_type": "code",
   "execution_count": null,
   "metadata": {},
   "outputs": [],
   "source": []
  }
 ],
 "metadata": {
  "kernelspec": {
   "display_name": "myenv",
   "language": "python",
   "name": "python3"
  },
  "language_info": {
   "codemirror_mode": {
    "name": "ipython",
    "version": 3
   },
   "file_extension": ".py",
   "mimetype": "text/x-python",
   "name": "python",
   "nbconvert_exporter": "python",
   "pygments_lexer": "ipython3",
   "version": "3.10.15"
  }
 },
 "nbformat": 4,
 "nbformat_minor": 2
}
